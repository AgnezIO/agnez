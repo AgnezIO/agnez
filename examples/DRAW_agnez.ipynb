{
 "cells": [
  {
   "cell_type": "code",
   "execution_count": null,
   "metadata": {
    "collapsed": false
   },
   "outputs": [],
   "source": [
    "%matplotlib inline\n",
    "from __future__ import absolute_import\n",
    "from __future__ import print_function\n",
    "import logging\n",
    "import numpy as np\n",
    "import matplotlib.pyplot as plt\n",
    "\n",
    "from theano import tensor, function\n",
    "\n",
    "#from keras.datasets import mnist\n",
    "from fuel.datasets.binarized_mnist import BinarizedMNIST\n",
    "\n",
    "from keras.models import Graph, Sequential\n",
    "from keras.layers.core import Dense, Dropout, Activation, Flatten\n",
    "from keras.layers.convolutional import Convolution2D, MaxPooling2D\n",
    "from keras.utils import np_utils, generic_utils\n",
    "from keras.optimizers import Adam\n",
    "from keras.initializations import normal\n",
    "\n",
    "\n",
    "from seya.layers.draw import DRAW\n",
    "from seya.layers.draw2 import DRAW2\n",
    "from seya.layers.base import Lambda\n",
    "\n",
    "from agnez import video_grid2d\n",
    "from agnez.app_callbacks import SendImgur, SendFigHTML\n",
    "\n",
    "from IPython import display"
   ]
  },
  {
   "cell_type": "code",
   "execution_count": null,
   "metadata": {
    "collapsed": false
   },
   "outputs": [],
   "source": [
    "logger = logging.getLogger()\n",
    "hdlr = logging.FileHandler('./draw.log')\n",
    "formatter = logging.Formatter('%(asctime)s %(levelname)s %(message)s')\n",
    "hdlr.setFormatter(formatter)\n",
    "logger.addHandler(hdlr) \n",
    "logger.setLevel(logging.INFO)"
   ]
  },
  {
   "cell_type": "code",
   "execution_count": null,
   "metadata": {
    "collapsed": false
   },
   "outputs": [],
   "source": [
    "batch_size = 100\n",
    "nb_epoch = 100\n",
    "n_steps = 64\n",
    "h_dim = 300\n",
    "z_dim = 100\n",
    "input_shape = (1, 28, 28)\n",
    "\n",
    "data_train = BinarizedMNIST(which_sets=['train'], sources=['features'])\n",
    "data_test = BinarizedMNIST(which_sets=['test'], sources=['features'])\n",
    "X_train = data_train.get_data(request=slice(0, 50000))[0].astype('float32')\n",
    "X_test = data_test.get_data(request=slice(0, 1000))[0].astype('float32')\n",
    "\n",
    "print('X_train shape:', X_train.shape)\n",
    "print(X_train.shape[0], 'train samples')"
   ]
  },
  {
   "cell_type": "code",
   "execution_count": null,
   "metadata": {
    "collapsed": false
   },
   "outputs": [],
   "source": [
    "def myinit(shape):\n",
    "    return normal(shape, scale=.01)\n",
    "\n",
    "draw = DRAW(h_dim=h_dim, z_dim=z_dim, input_shape=(1, 28, 28), N_enc=2, N_dec=5,\n",
    "            return_sequences=True, inner_rnn='gru', init=myinit, inner_init=myinit)\n",
    "# draw.write_factor"
   ]
  },
  {
   "cell_type": "markdown",
   "metadata": {},
   "source": [
    "# Agnez clients"
   ]
  },
  {
   "cell_type": "code",
   "execution_count": null,
   "metadata": {
    "collapsed": false
   },
   "outputs": [],
   "source": [
    "def gifgen():\n",
    "    return 'draw.gif'\n",
    "\n",
    "class PlotGen():\n",
    "    def __init__(self):\n",
    "        self.values = []\n",
    "    \n",
    "    def add_value(self, new_value):\n",
    "        self.values.append(new_value)\n",
    "    \n",
    "    def __call__(self):\n",
    "        fig = plt.figure()\n",
    "        plt.plot(np.asarray(self.values))\n",
    "        plt.title('cost function')\n",
    "        return fig\n",
    "\n",
    "plotgen = PlotGen()\n",
    "send_plot = SendFigHTML(generate_plot=plotgen, app_url='https://agnez.herokuapp.com/values')\n",
    "send_gif = SendImgur(generate_img=gifgen, app_url='https://agnez.herokuapp.com/values')"
   ]
  },
  {
   "cell_type": "markdown",
   "metadata": {},
   "source": [
    "# Train model"
   ]
  },
  {
   "cell_type": "code",
   "execution_count": null,
   "metadata": {
    "collapsed": true
   },
   "outputs": [],
   "source": [
    "def bce(y_true, y_pred):\n",
    "    epsilon = 1e-7\n",
    "    y_pred = tensor.clip(y_pred, epsilon, 1.0 - epsilon)\n",
    "    val = tensor.nnet.binary_crossentropy(y_pred, y_true).sum(axis=-1) #.mean()\n",
    "    #val = BinaryCrossEntropy().apply(y_true, y_pred)\n",
    "    return val"
   ]
  },
  {
   "cell_type": "code",
   "execution_count": null,
   "metadata": {
    "collapsed": false
   },
   "outputs": [],
   "source": [
    "def myreshape(x):\n",
    "    y = x[0][:, -1, :, :, :]\n",
    "    z = y.reshape((y.shape[0], 28*28))\n",
    "    return tensor.nnet.sigmoid(z)\n",
    "\n",
    "model = Graph()\n",
    "\n",
    "model.add_input(name='input', ndim=4)\n",
    "model.add_input(name='noise', ndim=3)\n",
    "model.add_node(draw, name='draw', inputs=['input', 'noise'], merge_mode='join')\n",
    "model.add_node(Lambda(lambda x: myreshape(x)),\n",
    "               name='out', input='draw', create_output=True)\n",
    "\n",
    "# model.get_output()  # make sure the regularizer is generated\n",
    "# model.regularizers += draw.regularizers  # add reparametrization trick regularizer to the list\n",
    "print(model.regularizers)"
   ]
  },
  {
   "cell_type": "code",
   "execution_count": null,
   "metadata": {
    "collapsed": false
   },
   "outputs": [],
   "source": [
    "adam = Adam(lr=3e-4, clipnorm=10)\n",
    "model.compile(loss={'out': bce}, optimizer=adam)"
   ]
  },
  {
   "cell_type": "code",
   "execution_count": null,
   "metadata": {
    "collapsed": false
   },
   "outputs": [],
   "source": [
    "X = model.get_input()\n",
    "Y = model.nodes['draw'].get_output()\n",
    "do_draw = function(X.values(), tensor.nnet.sigmoid(Y[0]), allow_input_downcast=True)"
   ]
  },
  {
   "cell_type": "code",
   "execution_count": null,
   "metadata": {
    "collapsed": false
   },
   "outputs": [],
   "source": [
    "for e in range(nb_epoch):\n",
    "    print('-'*40)\n",
    "    print('Epoch', e)\n",
    "    print('-'*40)\n",
    "    print(\"Training...\")\n",
    "    # batch train with realtime data augmentation\n",
    "    progbar = generic_utils.Progbar(X_train.shape[0])\n",
    "    for i in range(X_train.shape[0]/batch_size):\n",
    "        s = i * batch_size\n",
    "        l = (i+1) * batch_size\n",
    "        X_batch = X_train[s:l]\n",
    "        eps = np.random.normal(0, 1, (X_batch.shape[0], n_steps, z_dim))\n",
    "        loss = model.train_on_batch({'input': X_batch,\n",
    "                                     'noise': eps.astype('float32'),\n",
    "                                     'out': X_batch.reshape(batch_size, -1)})\n",
    "        progbar.add(X_batch.shape[0], values=[(\"train loss\", loss)])\n",
    "    \n",
    "    #kl_train = get_kl(X_batch, eps)\n",
    "    plotgen.add_value(loss)\n",
    "\n",
    "    # print(\"\")\n",
    "    # print(\"Testing...\")\n",
    "    # test time!\n",
    "    # progbar = generic_utils.Progbar(X_test.shape[0])\n",
    "    # for i in range(X_test.shape[0]/batch_size):\n",
    "    #    s = i * batch_size\n",
    "    #    l = (i+1) * batch_size\n",
    "    #    X_batch = X_test[s:l]\n",
    "    #    eps = np.random.normal(0, 1, (X_batch.shape[0], n_steps+1, z_dim))\n",
    "    #    score = model.test_on_batch({'input': X_batch,\n",
    "    #                                 'noise': eps,\n",
    "    #                                 'out': X_batch.reshape(batch_size, -1)})\n",
    "    #    progbar.add(X_batch.shape[0], values=[(\"test loss\", score)])\n",
    "        \n",
    "    \n",
    "    # logging.info('epoch: {0} | train-kl: {1} | test-loss: {2}'.format(e, kl_train, score))\n",
    "    \n",
    "    rec = do_draw(X_batch[:100], eps[:100])\n",
    "    rec = rec.reshape(rec.shape[0], rec.shape[1], -1)  \n",
    "    vg = video_grid2d(rec.transpose(1, 0, 2), filepath='draw.gif', rescale=True)\n",
    "    display.clear_output(wait=True)\n",
    "    \n",
    "    send_plot.on_epoch_end()\n",
    "    send_gif.on_epoch_end()"
   ]
  },
  {
   "cell_type": "code",
   "execution_count": 19,
   "metadata": {
    "collapsed": true
   },
   "outputs": [],
   "source": [
    "model.save_weights('draw_agnez')"
   ]
  },
  {
   "cell_type": "code",
   "execution_count": null,
   "metadata": {
    "collapsed": false
   },
   "outputs": [],
   "source": [
    "eps = np.random.normal(0, 1, (100, n_steps, z_dim))\n",
    "rec = do_draw(X_train[:100], eps[:100])\n",
    "rec = rec.reshape(rec.shape[0], rec.shape[1], -1)\n",
    "display.clear_output(wait=True)\n",
    "vg = video_grid2d(rec.transpose(1, 0, 2), filepath='draw.gif', rescale=True)\n",
    "display.display(vg)"
   ]
  },
  {
   "cell_type": "code",
   "execution_count": null,
   "metadata": {
    "collapsed": false
   },
   "outputs": [],
   "source": [
    "    send_plot.on_epoch_end()\n",
    "    send_gif.on_epoch_end()"
   ]
  }
 ],
 "metadata": {
  "kernelspec": {
   "display_name": "Python 2",
   "language": "python",
   "name": "python2"
  },
  "language_info": {
   "codemirror_mode": {
    "name": "ipython",
    "version": 2
   },
   "file_extension": ".py",
   "mimetype": "text/x-python",
   "name": "python",
   "nbconvert_exporter": "python",
   "pygments_lexer": "ipython2",
   "version": "2.7.10"
  }
 },
 "nbformat": 4,
 "nbformat_minor": 0
}
